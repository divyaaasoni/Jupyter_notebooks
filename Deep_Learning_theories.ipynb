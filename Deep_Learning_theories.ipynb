{
 "cells": [
  {
   "cell_type": "markdown",
   "metadata": {},
   "source": [
    "#### Deep Learning \n",
    "*   Neurons are central point.\n",
    "*   The network is called Neural Network.\n",
    "*   Axon is the transmitter of signal for the neurons.\n",
    "*   Dendrites recieve signals from other neurons.\n",
    "*   The point of reciving the input is called synapse.\n",
    "*   All the input layers are independent variables.\n",
    "*   Standardization/Normalization is required while passing neurons in the input layers data.\n",
    "*   Every single input variable that is passed on to the neuron is assigned a weight.\n",
    "*   The weight determines which signal/input is more important than others.\n",
    "*   Calculating and storing the weighted sum of the input variable."
   ]
  },
  {
   "cell_type": "markdown",
   "metadata": {},
   "source": [
    "-   Feature x : 10 - 5 - 50\n",
    "-   Feature y : 8 - 6 - 48\n",
    "-   Feature z : 3 - 10 - 30"
   ]
  },
  {
   "cell_type": "markdown",
   "metadata": {},
   "source": [
    "*   Activation Function\n",
    "    *   Threshold Function : It turns your outut into binary 1 or 0\n",
    "    *   Sigmoid Function : If the neuron calculation gets below 0 then feature gets dropped off , and near to 1 values are given priority.\n",
    "    *   Rectifier Function : This produces linear level curve for the output layers."
   ]
  }
 ],
 "metadata": {
  "kernelspec": {
   "display_name": "Python 3",
   "language": "python",
   "name": "python3"
  },
  "language_info": {
   "name": "python",
   "version": "3.12.2"
  }
 },
 "nbformat": 4,
 "nbformat_minor": 2
}
