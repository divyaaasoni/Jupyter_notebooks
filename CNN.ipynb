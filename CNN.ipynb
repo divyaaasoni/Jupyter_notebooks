{
 "cells": [
  {
   "cell_type": "markdown",
   "metadata": {},
   "source": [
    "#### Convoultional Neural Network (CNN) : \n",
    "CNN is widely used in cases of image classification.\n",
    "-   Convoultional Layers (Conv20)\n",
    "These Convo2D parameter is used for image feature extraction. It helps in detecting Patterns.\n",
    "-   Pooling Layers (MaxPooling2D)\n",
    "Reducing the overfitting, hels in more meaningful understanding of the features, focuses on more relevant information.\n",
    "-   Flatten Layer (Flatten)\n",
    "This Layer converts the 2D feature maps into a 1D Vector. This is crucial before you feed your data into connected laters.\n",
    "-   Fully Connected Layers(Dense)\n",
    "This Function/parameter is responsible for making the predicions/classification through high level learning.\n",
    "-   Activation Function\n",
    "This function introduce non linearity to the network to understand complex data model."
   ]
  },
  {
   "cell_type": "code",
   "execution_count": 10,
   "metadata": {},
   "outputs": [],
   "source": [
    "import numpy as np\n",
    "from tensorflow.keras.models import Sequential\n",
    "from tensorflow.keras.layers import Conv2D , MaxPooling2D , Flatten, Dense\n",
    "import matplotlib.pyplot as plt"
   ]
  },
  {
   "cell_type": "code",
   "execution_count": 11,
   "metadata": {},
   "outputs": [],
   "source": [
    "xtrain=np.random.random((1000,28,28,3))\n",
    "xtest=np.random.random((100,28,28,3))\n",
    "ytrain=np.random.randint(0,2,size=(1000,))\n",
    "ytest=np.random.randint(0,2,size=(100))\n"
   ]
  },
  {
   "cell_type": "code",
   "execution_count": 12,
   "metadata": {},
   "outputs": [
    {
     "data": {
      "text/plain": [
       "array([[[0.94476179, 0.75692513, 0.51858789],\n",
       "        [0.24294373, 0.47499931, 0.79152285],\n",
       "        [0.98808446, 0.13575216, 0.89022341],\n",
       "        ...,\n",
       "        [0.21822509, 0.56706664, 0.1088352 ],\n",
       "        [0.35522411, 0.99359859, 0.09575942],\n",
       "        [0.74577818, 0.21733456, 0.56769515]],\n",
       "\n",
       "       [[0.96341926, 0.26149655, 0.96522346],\n",
       "        [0.79234737, 0.33443993, 0.22290884],\n",
       "        [0.37055871, 0.51763894, 0.22576082],\n",
       "        ...,\n",
       "        [0.28979974, 0.87717264, 0.1113762 ],\n",
       "        [0.87961942, 0.79348053, 0.09026491],\n",
       "        [0.25914809, 0.48657719, 0.59673292]],\n",
       "\n",
       "       [[0.40516844, 0.15050548, 0.84868249],\n",
       "        [0.72747693, 0.94656234, 0.82754696],\n",
       "        [0.72197971, 0.25957709, 0.55795195],\n",
       "        ...,\n",
       "        [0.89581526, 0.05294766, 0.56001536],\n",
       "        [0.74205023, 0.24976896, 0.14134747],\n",
       "        [0.87989025, 0.94852689, 0.7173044 ]],\n",
       "\n",
       "       ...,\n",
       "\n",
       "       [[0.33300701, 0.51566419, 0.89712268],\n",
       "        [0.99567183, 0.79088049, 0.82021013],\n",
       "        [0.32745394, 0.77997045, 0.06054249],\n",
       "        ...,\n",
       "        [0.17473038, 0.16534651, 0.05582255],\n",
       "        [0.00995242, 0.24892333, 0.5697976 ],\n",
       "        [0.3736393 , 0.03289617, 0.69682415]],\n",
       "\n",
       "       [[0.42092201, 0.95794787, 0.14076781],\n",
       "        [0.90263235, 0.74316931, 0.50991416],\n",
       "        [0.22423863, 0.72243281, 0.484377  ],\n",
       "        ...,\n",
       "        [0.19061314, 0.74214814, 0.97736798],\n",
       "        [0.14887874, 0.10188849, 0.07438527],\n",
       "        [0.87829076, 0.14291053, 0.08655386]],\n",
       "\n",
       "       [[0.81408577, 0.74459219, 0.43753989],\n",
       "        [0.99940053, 0.54026012, 0.28926182],\n",
       "        [0.97397105, 0.52183785, 0.70127326],\n",
       "        ...,\n",
       "        [0.28195595, 0.49611631, 0.17598861],\n",
       "        [0.67612908, 0.44631178, 0.85529405],\n",
       "        [0.42691169, 0.38520069, 0.26775889]]])"
      ]
     },
     "execution_count": 12,
     "metadata": {},
     "output_type": "execute_result"
    }
   ],
   "source": [
    "xtrain[1]"
   ]
  },
  {
   "cell_type": "code",
   "execution_count": 13,
   "metadata": {},
   "outputs": [
    {
     "data": {
      "image/png": "[encoded data removed]",
      "text/plain": [
       "<Figure size 640x480 with 1 Axes>"
      ]
     },
     "metadata": {},
     "output_type": "display_data"
    }
   ],
   "source": [
    "plt.imshow(xtrain[20])\n",
    "plt.title('Sample Image')\n",
    "plt.axis('off')\n",
    "plt.show()"
   ]
  },
  {
   "cell_type": "code",
   "execution_count": 14,
   "metadata": {},
   "outputs": [
    {
     "name": "stderr",
     "output_type": "stream",
     "text": [
      "c:\\Users\\divya\\AppData\\Local\\Programs\\Python\\Python312\\Lib\\site-packages\\keras\\src\\layers\\convolutional\\base_conv.py:99: UserWarning: Do not pass an `input_shape`/`input_dim` argument to a layer. When using Sequential models, prefer using an `Input(shape)` object as the first layer in the model instead.\n",
      "  super().__init__(\n"
     ]
    }
   ],
   "source": [
    "model=Sequential()\n",
    "model.add(Conv2D(32,(3,3),activation='relu',input_shape=(28,28,3)))\n",
    "model.add(MaxPooling2D((2,2)))\n",
    "model.add(Conv2D(64,(3,3),activation='relu'))\n",
    "model.add(MaxPooling2D((2,2)))\n",
    "model.add(Conv2D(64,(3,3),activation='relu'))\n",
    "model.add(Flatten())\n",
    "model.add(Dense(64,activation='relu'))\n",
    "model.add(Dense(1,activation='sigmoid'))"
   ]
  },
  {
   "cell_type": "code",
   "execution_count": 15,
   "metadata": {},
   "outputs": [],
   "source": [
    "model.compile(optimizer='adam',\n",
    "              loss='binary_crossentropy',\n",
    "              metrics=['accuracy'])"
   ]
  },
  {
   "cell_type": "code",
   "execution_count": 16,
   "metadata": {},
   "outputs": [
    {
     "name": "stdout",
     "output_type": "stream",
     "text": [
      "Epoch 1/5\n"
     ]
    },
    {
     "name": "stdout",
     "output_type": "stream",
     "text": [
      "\u001b[1m32/32\u001b[0m \u001b[32m━━━━━━━━━━━━━━━━━━━━\u001b[0m\u001b[37m\u001b[0m \u001b[1m2s\u001b[0m 9ms/step - accuracy: 0.5081 - loss: 0.7009\n",
      "Epoch 2/5\n",
      "\u001b[1m32/32\u001b[0m \u001b[32m━━━━━━━━━━━━━━━━━━━━\u001b[0m\u001b[37m\u001b[0m \u001b[1m0s\u001b[0m 8ms/step - accuracy: 0.4961 - loss: 0.6955\n",
      "Epoch 3/5\n",
      "\u001b[1m32/32\u001b[0m \u001b[32m━━━━━━━━━━━━━━━━━━━━\u001b[0m\u001b[37m\u001b[0m \u001b[1m0s\u001b[0m 8ms/step - accuracy: 0.5210 - loss: 0.6915\n",
      "Epoch 4/5\n",
      "\u001b[1m32/32\u001b[0m \u001b[32m━━━━━━━━━━━━━━━━━━━━\u001b[0m\u001b[37m\u001b[0m \u001b[1m0s\u001b[0m 9ms/step - accuracy: 0.6055 - loss: 0.6824\n",
      "Epoch 5/5\n",
      "\u001b[1m32/32\u001b[0m \u001b[32m━━━━━━━━━━━━━━━━━━━━\u001b[0m\u001b[37m\u001b[0m \u001b[1m0s\u001b[0m 9ms/step - accuracy: 0.7248 - loss: 0.6676\n"
     ]
    },
    {
     "data": {
      "text/plain": [
       "<keras.src.callbacks.history.History at 0x2d134e8bf80>"
      ]
     },
     "execution_count": 16,
     "metadata": {},
     "output_type": "execute_result"
    }
   ],
   "source": [
    "model.fit(xtrain,ytrain,epochs=5,batch_size=32)"
   ]
  },
  {
   "cell_type": "code",
   "execution_count": 17,
   "metadata": {},
   "outputs": [
    {
     "name": "stdout",
     "output_type": "stream",
     "text": [
      "\u001b[1m4/4\u001b[0m \u001b[32m━━━━━━━━━━━━━━━━━━━━\u001b[0m\u001b[37m\u001b[0m \u001b[1m0s\u001b[0m 5ms/step - accuracy: 0.5127 - loss: 0.6934  \n",
      "Test Loss:  0.6862391829490662 Test Accuracy:  0.550000011920929\n"
     ]
    }
   ],
   "source": [
    "loss,accuracy=model.evaluate(xtest,ytest)\n",
    "print('Test Loss: ',loss,\"Test Accuracy: \",accuracy)"
   ]
  }
 ],
 "metadata": {
  "kernelspec": {
   "display_name": "Python 3",
   "language": "python",
   "name": "python3"
  },
  "language_info": {
   "codemirror_mode": {
    "name": "ipython",
    "version": 3
   },
   "file_extension": ".py",
   "mimetype": "text/x-python",
   "name": "python",
   "nbconvert_exporter": "python",
   "pygments_lexer": "ipython3",
   "version": "3.12.2"
  }
 },
 "nbformat": 4,
 "nbformat_minor": 2
}
