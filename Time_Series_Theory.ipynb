{
 "cells": [
  {
   "cell_type": "markdown",
   "metadata": {},
   "source": [
    "### Time Series\n",
    "-   Time Factor impact over a period of time."
   ]
  },
  {
   "cell_type": "markdown",
   "metadata": {},
   "source": [
    "- Unvariate time Series analysis : One independent variable."
   ]
  },
  {
   "cell_type": "markdown",
   "metadata": {},
   "source": [
    "#### Stationarity :\n",
    "-   Constant Mean , Constant Variance , Stationary data\n",
    "-   Inconsistent Mean/Variance - Non stationary data\n",
    "When applying a time series model to your data , you have to make your data stationary.\n",
    "    *   Auto Regressive moving  average : ARMA\n",
    "    *   Arimax\n",
    "    *   Sarimax \n",
    "Other type of TS models -\n",
    "    *   Prophet - Facebook (Meta)\n",
    "    *   XBoost Model - ensemble methodology \n",
    "    *   LSTM Model"
   ]
  },
  {
   "cell_type": "code",
   "execution_count": null,
   "metadata": {},
   "outputs": [],
   "source": []
  }
 ],
 "metadata": {
  "kernelspec": {
   "display_name": "Python 3",
   "language": "python",
   "name": "python3"
  },
  "language_info": {
   "name": "python",
   "version": "3.12.1"
  }
 },
 "nbformat": 4,
 "nbformat_minor": 2
}
